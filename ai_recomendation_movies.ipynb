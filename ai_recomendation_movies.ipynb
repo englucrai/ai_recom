{
 "cells": [
  {
   "cell_type": "code",
   "execution_count": 2,
   "id": "39766440-e344-4d97-9600-24bc1cab18e1",
   "metadata": {},
   "outputs": [],
   "source": [
    "#Importar as bibliotecas necessárias\n",
    "\n",
    "import pandas as pd\n",
    "#print('Pandas version: ', pd.__version__)\n",
    "\n",
    "import numpy as np\n",
    "#print('Numpy version: ', np.__version__)\n",
    "\n",
    "import matplotlib.pyplot as plt\n",
    "\n",
    "from scipy.sparse import csr_matrix\n",
    "from sklearn.feature_extraction.text import CountVectorizer\n",
    "\n",
    "\n",
    "import pandas as pd\n",
    "import matplotlib.pyplot as plt\n",
    "import numpy as np\n",
    "\n",
    "from mpl_toolkits.axes_grid1 import make_axes_locatable\n",
    "\n",
    "from sklearn.cluster import KMeans\n",
    "\n",
    "from sklearn.metrics import mean_squared_error\n",
    "\n",
    "import itertools\n",
    "\n",
    "from sklearn.metrics import silhouette_samples, silhouette_score"
   ]
  },
  {
   "cell_type": "code",
   "execution_count": 3,
   "id": "a69a7e57-20c5-4228-8414-4b67bedc6ee7",
   "metadata": {},
   "outputs": [
    {
     "data": {
      "text/html": [
       "<div>\n",
       "<style scoped>\n",
       "    .dataframe tbody tr th:only-of-type {\n",
       "        vertical-align: middle;\n",
       "    }\n",
       "\n",
       "    .dataframe tbody tr th {\n",
       "        vertical-align: top;\n",
       "    }\n",
       "\n",
       "    .dataframe thead th {\n",
       "        text-align: right;\n",
       "    }\n",
       "</style>\n",
       "<table border=\"1\" class=\"dataframe\">\n",
       "  <thead>\n",
       "    <tr style=\"text-align: right;\">\n",
       "      <th></th>\n",
       "      <th>movieId</th>\n",
       "      <th>title</th>\n",
       "      <th>genres</th>\n",
       "    </tr>\n",
       "  </thead>\n",
       "  <tbody>\n",
       "    <tr>\n",
       "      <th>0</th>\n",
       "      <td>1</td>\n",
       "      <td>Toy Story (1995)</td>\n",
       "      <td>Adventure|Animation|Children|Comedy|Fantasy</td>\n",
       "    </tr>\n",
       "    <tr>\n",
       "      <th>1</th>\n",
       "      <td>2</td>\n",
       "      <td>Jumanji (1995)</td>\n",
       "      <td>Adventure|Children|Fantasy</td>\n",
       "    </tr>\n",
       "    <tr>\n",
       "      <th>2</th>\n",
       "      <td>3</td>\n",
       "      <td>Grumpier Old Men (1995)</td>\n",
       "      <td>Comedy|Romance</td>\n",
       "    </tr>\n",
       "    <tr>\n",
       "      <th>3</th>\n",
       "      <td>4</td>\n",
       "      <td>Waiting to Exhale (1995)</td>\n",
       "      <td>Comedy|Drama|Romance</td>\n",
       "    </tr>\n",
       "    <tr>\n",
       "      <th>4</th>\n",
       "      <td>5</td>\n",
       "      <td>Father of the Bride Part II (1995)</td>\n",
       "      <td>Comedy</td>\n",
       "    </tr>\n",
       "  </tbody>\n",
       "</table>\n",
       "</div>"
      ],
      "text/plain": [
       "   movieId                               title  \\\n",
       "0        1                    Toy Story (1995)   \n",
       "1        2                      Jumanji (1995)   \n",
       "2        3             Grumpier Old Men (1995)   \n",
       "3        4            Waiting to Exhale (1995)   \n",
       "4        5  Father of the Bride Part II (1995)   \n",
       "\n",
       "                                        genres  \n",
       "0  Adventure|Animation|Children|Comedy|Fantasy  \n",
       "1                   Adventure|Children|Fantasy  \n",
       "2                               Comedy|Romance  \n",
       "3                         Comedy|Drama|Romance  \n",
       "4                                       Comedy  "
      ]
     },
     "execution_count": 3,
     "metadata": {},
     "output_type": "execute_result"
    }
   ],
   "source": [
    "# Importar o dataset de filmes\n",
    "movies = pd.read_csv('movies.csv')\n",
    "movies.head()"
   ]
  },
  {
   "cell_type": "code",
   "execution_count": 4,
   "id": "c5f06315-a05b-402b-a40d-6b9cfe26c9f4",
   "metadata": {},
   "outputs": [
    {
     "name": "stdout",
     "output_type": "stream",
     "text": [
      "Shape of ratings dataset is:  (25000095, 3) \n",
      "\n",
      "Max values in dataset are \n",
      " userId     162541.0\n",
      "movieId    209171.0\n",
      "rating          5.0\n",
      "dtype: float64 \n",
      "\n",
      "Min values in dataset are \n",
      " userId     1.0\n",
      "movieId    1.0\n",
      "rating     0.5\n",
      "dtype: float64 \n",
      "\n"
     ]
    },
    {
     "data": {
      "text/html": [
       "<div>\n",
       "<style scoped>\n",
       "    .dataframe tbody tr th:only-of-type {\n",
       "        vertical-align: middle;\n",
       "    }\n",
       "\n",
       "    .dataframe tbody tr th {\n",
       "        vertical-align: top;\n",
       "    }\n",
       "\n",
       "    .dataframe thead th {\n",
       "        text-align: right;\n",
       "    }\n",
       "</style>\n",
       "<table border=\"1\" class=\"dataframe\">\n",
       "  <thead>\n",
       "    <tr style=\"text-align: right;\">\n",
       "      <th></th>\n",
       "      <th>userId</th>\n",
       "      <th>movieId</th>\n",
       "      <th>rating</th>\n",
       "    </tr>\n",
       "  </thead>\n",
       "  <tbody>\n",
       "    <tr>\n",
       "      <th>0</th>\n",
       "      <td>1</td>\n",
       "      <td>296</td>\n",
       "      <td>5.0</td>\n",
       "    </tr>\n",
       "    <tr>\n",
       "      <th>1</th>\n",
       "      <td>1</td>\n",
       "      <td>306</td>\n",
       "      <td>3.5</td>\n",
       "    </tr>\n",
       "    <tr>\n",
       "      <th>2</th>\n",
       "      <td>1</td>\n",
       "      <td>307</td>\n",
       "      <td>5.0</td>\n",
       "    </tr>\n",
       "    <tr>\n",
       "      <th>3</th>\n",
       "      <td>1</td>\n",
       "      <td>665</td>\n",
       "      <td>5.0</td>\n",
       "    </tr>\n",
       "    <tr>\n",
       "      <th>4</th>\n",
       "      <td>1</td>\n",
       "      <td>899</td>\n",
       "      <td>3.5</td>\n",
       "    </tr>\n",
       "  </tbody>\n",
       "</table>\n",
       "</div>"
      ],
      "text/plain": [
       "   userId  movieId  rating\n",
       "0       1      296     5.0\n",
       "1       1      306     3.5\n",
       "2       1      307     5.0\n",
       "3       1      665     5.0\n",
       "4       1      899     3.5"
      ]
     },
     "execution_count": 4,
     "metadata": {},
     "output_type": "execute_result"
    }
   ],
   "source": [
    "# Importar o dataset de avaliações\n",
    "ratings = pd.read_csv('ratings.csv', usecols = ['userId', 'movieId','rating'])\n",
    "print('Shape of ratings dataset is: ',ratings.shape, '\\n')\n",
    "print('Max values in dataset are \\n',ratings.max(), '\\n')\n",
    "print('Min values in dataset are \\n',ratings.min(), '\\n') \n",
    "ratings.head()"
   ]
  },
  {
   "cell_type": "code",
   "execution_count": 5,
   "id": "6042072d-ab16-424c-b319-60566299d76a",
   "metadata": {},
   "outputs": [
    {
     "name": "stdout",
     "output_type": "stream",
     "text": [
      "Shape of ratings tittle dataset is:  (25000095, 4) \n",
      "\n"
     ]
    },
    {
     "data": {
      "text/html": [
       "<div>\n",
       "<style scoped>\n",
       "    .dataframe tbody tr th:only-of-type {\n",
       "        vertical-align: middle;\n",
       "    }\n",
       "\n",
       "    .dataframe tbody tr th {\n",
       "        vertical-align: top;\n",
       "    }\n",
       "\n",
       "    .dataframe thead th {\n",
       "        text-align: right;\n",
       "    }\n",
       "</style>\n",
       "<table border=\"1\" class=\"dataframe\">\n",
       "  <thead>\n",
       "    <tr style=\"text-align: right;\">\n",
       "      <th></th>\n",
       "      <th>userId</th>\n",
       "      <th>movieId</th>\n",
       "      <th>rating</th>\n",
       "      <th>title</th>\n",
       "    </tr>\n",
       "  </thead>\n",
       "  <tbody>\n",
       "    <tr>\n",
       "      <th>0</th>\n",
       "      <td>1</td>\n",
       "      <td>296</td>\n",
       "      <td>5.0</td>\n",
       "      <td>Pulp Fiction (1994)</td>\n",
       "    </tr>\n",
       "    <tr>\n",
       "      <th>1</th>\n",
       "      <td>3</td>\n",
       "      <td>296</td>\n",
       "      <td>5.0</td>\n",
       "      <td>Pulp Fiction (1994)</td>\n",
       "    </tr>\n",
       "    <tr>\n",
       "      <th>2</th>\n",
       "      <td>4</td>\n",
       "      <td>296</td>\n",
       "      <td>4.0</td>\n",
       "      <td>Pulp Fiction (1994)</td>\n",
       "    </tr>\n",
       "    <tr>\n",
       "      <th>3</th>\n",
       "      <td>5</td>\n",
       "      <td>296</td>\n",
       "      <td>4.0</td>\n",
       "      <td>Pulp Fiction (1994)</td>\n",
       "    </tr>\n",
       "    <tr>\n",
       "      <th>4</th>\n",
       "      <td>7</td>\n",
       "      <td>296</td>\n",
       "      <td>4.0</td>\n",
       "      <td>Pulp Fiction (1994)</td>\n",
       "    </tr>\n",
       "  </tbody>\n",
       "</table>\n",
       "</div>"
      ],
      "text/plain": [
       "   userId  movieId  rating                title\n",
       "0       1      296     5.0  Pulp Fiction (1994)\n",
       "1       3      296     5.0  Pulp Fiction (1994)\n",
       "2       4      296     4.0  Pulp Fiction (1994)\n",
       "3       5      296     4.0  Pulp Fiction (1994)\n",
       "4       7      296     4.0  Pulp Fiction (1994)"
      ]
     },
     "execution_count": 5,
     "metadata": {},
     "output_type": "execute_result"
    }
   ],
   "source": [
    "ratings_title = pd.merge(ratings, movies[['movieId', 'title']], on = 'movieId')\n",
    "print('Shape of ratings tittle dataset is: ',ratings_title.shape, '\\n')\n",
    "ratings_title.head()"
   ]
  },
  {
   "cell_type": "code",
   "execution_count": 6,
   "id": "6e53f9f6-c400-4b9a-8669-342e55e19583",
   "metadata": {},
   "outputs": [],
   "source": [
    "user_movie_ratings = pd.pivot_table(ratings_title[:10000000], index = 'userId', columns = 'title', values = 'rating')"
   ]
  },
  {
   "cell_type": "code",
   "execution_count": 7,
   "id": "9cc4bfa8-d1cd-440d-957b-db17c1473057",
   "metadata": {},
   "outputs": [],
   "source": [
    "def get_most_rated_movies(user_movie_ratings, max_number_of_movies):\n",
    "    # 1- Count\n",
    "    user_movie_ratings = user_movie_ratings.append(user_movie_ratings.count(), ignore_index=True)\n",
    "    # 2- sort\n",
    "    user_movie_ratings_sorted = user_movie_ratings.sort_values(len(user_movie_ratings)-1, axis=1, ascending=False)\n",
    "    user_movie_ratings_sorted = user_movie_ratings_sorted.drop(user_movie_ratings_sorted.tail(1).index)\n",
    "    # 3- slice\n",
    "    most_rated_movies = user_movie_ratings_sorted.iloc[:, :max_number_of_movies]\n",
    "    return most_rated_movies"
   ]
  },
  {
   "cell_type": "code",
   "execution_count": 8,
   "id": "e6ab894f-c66d-4582-a23a-d65ab9c6acbf",
   "metadata": {},
   "outputs": [],
   "source": [
    "user_movie_ratings =  pd.pivot_table(ratings_title[:10000000], index = 'userId', columns = 'title', values = 'rating')\n",
    "most_rated_movies_1k = get_most_rated_movies(user_movie_ratings, 1000)"
   ]
  },
  {
   "cell_type": "code",
   "execution_count": 9,
   "id": "4ea32e7b-80f2-4361-9bc6-26f204da0f29",
   "metadata": {},
   "outputs": [
    {
     "name": "stdout",
     "output_type": "stream",
     "text": [
      "(162452, 949)\n"
     ]
    },
    {
     "data": {
      "text/html": [
       "<div>\n",
       "<style scoped>\n",
       "    .dataframe tbody tr th:only-of-type {\n",
       "        vertical-align: middle;\n",
       "    }\n",
       "\n",
       "    .dataframe tbody tr th {\n",
       "        vertical-align: top;\n",
       "    }\n",
       "\n",
       "    .dataframe thead th {\n",
       "        text-align: right;\n",
       "    }\n",
       "</style>\n",
       "<table border=\"1\" class=\"dataframe\">\n",
       "  <thead>\n",
       "    <tr style=\"text-align: right;\">\n",
       "      <th>title</th>\n",
       "      <th>Forrest Gump (1994)</th>\n",
       "      <th>Shawshank Redemption, The (1994)</th>\n",
       "      <th>Pulp Fiction (1994)</th>\n",
       "      <th>Silence of the Lambs, The (1991)</th>\n",
       "      <th>Matrix, The (1999)</th>\n",
       "      <th>Star Wars: Episode IV - A New Hope (1977)</th>\n",
       "      <th>Jurassic Park (1993)</th>\n",
       "      <th>Schindler's List (1993)</th>\n",
       "      <th>Braveheart (1995)</th>\n",
       "      <th>Fight Club (1999)</th>\n",
       "      <th>...</th>\n",
       "      <th>The Trust (2016)</th>\n",
       "      <th>Death Note Rewrite: Genshisuru Kami (2007)</th>\n",
       "      <th>Hit the Bank (Vabank) (1981)</th>\n",
       "      <th>Teddy Bear (Mis) (1981)</th>\n",
       "      <th>Ghost in the Shell: The New Movie (2015)</th>\n",
       "      <th>Ford v. Ferrari (2019)</th>\n",
       "      <th>Swann in Love (Un amour de Swann) (1984)</th>\n",
       "      <th>Miracle of Marcelino, The (Marcelino pan y vino) (1955)</th>\n",
       "      <th>Fateful Findings (2013)</th>\n",
       "      <th>Alien Planet (2005)</th>\n",
       "    </tr>\n",
       "  </thead>\n",
       "  <tbody>\n",
       "    <tr>\n",
       "      <th>0</th>\n",
       "      <td>NaN</td>\n",
       "      <td>NaN</td>\n",
       "      <td>5.0</td>\n",
       "      <td>NaN</td>\n",
       "      <td>NaN</td>\n",
       "      <td>NaN</td>\n",
       "      <td>NaN</td>\n",
       "      <td>NaN</td>\n",
       "      <td>NaN</td>\n",
       "      <td>NaN</td>\n",
       "      <td>...</td>\n",
       "      <td>NaN</td>\n",
       "      <td>NaN</td>\n",
       "      <td>3.0</td>\n",
       "      <td>5.0</td>\n",
       "      <td>NaN</td>\n",
       "      <td>NaN</td>\n",
       "      <td>3.5</td>\n",
       "      <td>1.0</td>\n",
       "      <td>NaN</td>\n",
       "      <td>NaN</td>\n",
       "    </tr>\n",
       "    <tr>\n",
       "      <th>1</th>\n",
       "      <td>4.5</td>\n",
       "      <td>5.0</td>\n",
       "      <td>NaN</td>\n",
       "      <td>NaN</td>\n",
       "      <td>5.0</td>\n",
       "      <td>5.0</td>\n",
       "      <td>2.0</td>\n",
       "      <td>5.0</td>\n",
       "      <td>5.0</td>\n",
       "      <td>NaN</td>\n",
       "      <td>...</td>\n",
       "      <td>NaN</td>\n",
       "      <td>NaN</td>\n",
       "      <td>NaN</td>\n",
       "      <td>NaN</td>\n",
       "      <td>NaN</td>\n",
       "      <td>NaN</td>\n",
       "      <td>NaN</td>\n",
       "      <td>NaN</td>\n",
       "      <td>NaN</td>\n",
       "      <td>NaN</td>\n",
       "    </tr>\n",
       "    <tr>\n",
       "      <th>2</th>\n",
       "      <td>4.0</td>\n",
       "      <td>4.0</td>\n",
       "      <td>5.0</td>\n",
       "      <td>4.0</td>\n",
       "      <td>4.0</td>\n",
       "      <td>4.0</td>\n",
       "      <td>2.0</td>\n",
       "      <td>4.0</td>\n",
       "      <td>NaN</td>\n",
       "      <td>5.0</td>\n",
       "      <td>...</td>\n",
       "      <td>NaN</td>\n",
       "      <td>4.0</td>\n",
       "      <td>NaN</td>\n",
       "      <td>NaN</td>\n",
       "      <td>4.0</td>\n",
       "      <td>NaN</td>\n",
       "      <td>NaN</td>\n",
       "      <td>NaN</td>\n",
       "      <td>NaN</td>\n",
       "      <td>NaN</td>\n",
       "    </tr>\n",
       "    <tr>\n",
       "      <th>3</th>\n",
       "      <td>NaN</td>\n",
       "      <td>NaN</td>\n",
       "      <td>4.0</td>\n",
       "      <td>NaN</td>\n",
       "      <td>4.5</td>\n",
       "      <td>3.5</td>\n",
       "      <td>NaN</td>\n",
       "      <td>NaN</td>\n",
       "      <td>NaN</td>\n",
       "      <td>NaN</td>\n",
       "      <td>...</td>\n",
       "      <td>3.5</td>\n",
       "      <td>NaN</td>\n",
       "      <td>NaN</td>\n",
       "      <td>NaN</td>\n",
       "      <td>NaN</td>\n",
       "      <td>4.5</td>\n",
       "      <td>NaN</td>\n",
       "      <td>NaN</td>\n",
       "      <td>2.0</td>\n",
       "      <td>3.0</td>\n",
       "    </tr>\n",
       "    <tr>\n",
       "      <th>4</th>\n",
       "      <td>4.0</td>\n",
       "      <td>NaN</td>\n",
       "      <td>4.0</td>\n",
       "      <td>5.0</td>\n",
       "      <td>NaN</td>\n",
       "      <td>5.0</td>\n",
       "      <td>NaN</td>\n",
       "      <td>NaN</td>\n",
       "      <td>NaN</td>\n",
       "      <td>NaN</td>\n",
       "      <td>...</td>\n",
       "      <td>NaN</td>\n",
       "      <td>NaN</td>\n",
       "      <td>NaN</td>\n",
       "      <td>NaN</td>\n",
       "      <td>NaN</td>\n",
       "      <td>NaN</td>\n",
       "      <td>NaN</td>\n",
       "      <td>NaN</td>\n",
       "      <td>NaN</td>\n",
       "      <td>NaN</td>\n",
       "    </tr>\n",
       "  </tbody>\n",
       "</table>\n",
       "<p>5 rows × 949 columns</p>\n",
       "</div>"
      ],
      "text/plain": [
       "title  Forrest Gump (1994)  Shawshank Redemption, The (1994)  \\\n",
       "0                      NaN                               NaN   \n",
       "1                      4.5                               5.0   \n",
       "2                      4.0                               4.0   \n",
       "3                      NaN                               NaN   \n",
       "4                      4.0                               NaN   \n",
       "\n",
       "title  Pulp Fiction (1994)  Silence of the Lambs, The (1991)  \\\n",
       "0                      5.0                               NaN   \n",
       "1                      NaN                               NaN   \n",
       "2                      5.0                               4.0   \n",
       "3                      4.0                               NaN   \n",
       "4                      4.0                               5.0   \n",
       "\n",
       "title  Matrix, The (1999)  Star Wars: Episode IV - A New Hope (1977)  \\\n",
       "0                     NaN                                        NaN   \n",
       "1                     5.0                                        5.0   \n",
       "2                     4.0                                        4.0   \n",
       "3                     4.5                                        3.5   \n",
       "4                     NaN                                        5.0   \n",
       "\n",
       "title  Jurassic Park (1993)  Schindler's List (1993)  Braveheart (1995)  \\\n",
       "0                       NaN                      NaN                NaN   \n",
       "1                       2.0                      5.0                5.0   \n",
       "2                       2.0                      4.0                NaN   \n",
       "3                       NaN                      NaN                NaN   \n",
       "4                       NaN                      NaN                NaN   \n",
       "\n",
       "title  Fight Club (1999)  ...  The Trust (2016)  \\\n",
       "0                    NaN  ...               NaN   \n",
       "1                    NaN  ...               NaN   \n",
       "2                    5.0  ...               NaN   \n",
       "3                    NaN  ...               3.5   \n",
       "4                    NaN  ...               NaN   \n",
       "\n",
       "title  Death Note Rewrite: Genshisuru Kami (2007)  \\\n",
       "0                                             NaN   \n",
       "1                                             NaN   \n",
       "2                                             4.0   \n",
       "3                                             NaN   \n",
       "4                                             NaN   \n",
       "\n",
       "title  Hit the Bank (Vabank) (1981)  Teddy Bear (Mis) (1981)  \\\n",
       "0                               3.0                      5.0   \n",
       "1                               NaN                      NaN   \n",
       "2                               NaN                      NaN   \n",
       "3                               NaN                      NaN   \n",
       "4                               NaN                      NaN   \n",
       "\n",
       "title  Ghost in the Shell: The New Movie (2015)  Ford v. Ferrari (2019)  \\\n",
       "0                                           NaN                     NaN   \n",
       "1                                           NaN                     NaN   \n",
       "2                                           4.0                     NaN   \n",
       "3                                           NaN                     4.5   \n",
       "4                                           NaN                     NaN   \n",
       "\n",
       "title  Swann in Love (Un amour de Swann) (1984)  \\\n",
       "0                                           3.5   \n",
       "1                                           NaN   \n",
       "2                                           NaN   \n",
       "3                                           NaN   \n",
       "4                                           NaN   \n",
       "\n",
       "title  Miracle of Marcelino, The (Marcelino pan y vino) (1955)  \\\n",
       "0                                                    1.0         \n",
       "1                                                    NaN         \n",
       "2                                                    NaN         \n",
       "3                                                    NaN         \n",
       "4                                                    NaN         \n",
       "\n",
       "title  Fateful Findings (2013)  Alien Planet (2005)  \n",
       "0                          NaN                  NaN  \n",
       "1                          NaN                  NaN  \n",
       "2                          NaN                  NaN  \n",
       "3                          2.0                  3.0  \n",
       "4                          NaN                  NaN  \n",
       "\n",
       "[5 rows x 949 columns]"
      ]
     },
     "execution_count": 9,
     "metadata": {},
     "output_type": "execute_result"
    }
   ],
   "source": [
    "print (most_rated_movies_1k.shape)\n",
    "most_rated_movies_1k.head()"
   ]
  },
  {
   "cell_type": "code",
   "execution_count": 10,
   "id": "921656c6-0840-48e6-bd19-065ed0523921",
   "metadata": {},
   "outputs": [
    {
     "data": {
      "text/plain": [
       "<162452x949 sparse matrix of type '<class 'numpy.float64'>'\n",
       "\twith 154166948 stored elements in Compressed Sparse Row format>"
      ]
     },
     "execution_count": 10,
     "metadata": {},
     "output_type": "execute_result"
    }
   ],
   "source": [
    "sparse_ratings = csr_matrix(most_rated_movies_1k)\n",
    "sparse_ratings"
   ]
  },
  {
   "cell_type": "code",
   "execution_count": 11,
   "id": "f5272794-54c5-4d2a-bce7-3bd0e8263105",
   "metadata": {},
   "outputs": [
    {
     "data": {
      "text/plain": [
       "<162452x949 sparse matrix of type '<class 'numpy.float64'>'\n",
       "\twith 154166948 stored elements in COOrdinate format>"
      ]
     },
     "execution_count": 11,
     "metadata": {},
     "output_type": "execute_result"
    }
   ],
   "source": [
    "sparseratings = pd.DataFrame.sparse.from_spmatrix(sparse_ratings)\n",
    "sparseratings = sparseratings.fillna(0)\n",
    "sparseratings = sparseratings.sparse.to_coo()\n",
    "sparseratings"
   ]
  },
  {
   "cell_type": "code",
   "execution_count": null,
   "id": "af5406b5-3413-49c9-b5b6-52b3b2d38aaa",
   "metadata": {},
   "outputs": [],
   "source": [
    "k_means = KMeans(n_clusters = 150, algorithm = 'full',max_iter = 100)\n",
    "\n",
    "predictions = k_means.fit_predict(sparseratings)\n",
    "\n",
    "clustered = pd.concat([most_rated_movies_1k.reset_index(), pd.DataFrame({'group':predictions})], axis=1)"
   ]
  },
  {
   "cell_type": "code",
   "execution_count": 14,
   "id": "f5aae197-c9bf-4588-affc-935ae700bd43",
   "metadata": {},
   "outputs": [],
   "source": [
    "cluster_number = 7\n",
    "cluster = clustered[clustered.group == cluster_number].drop(['index', 'group'], axis=1)"
   ]
  },
  {
   "cell_type": "code",
   "execution_count": 14,
   "id": "60204d40-6f4a-43f0-aa29-4aabf46aa9b4",
   "metadata": {},
   "outputs": [
    {
     "ename": "NameError",
     "evalue": "name 'cluster' is not defined",
     "output_type": "error",
     "traceback": [
      "\u001b[1;31m---------------------------------------------------------------------------\u001b[0m",
      "\u001b[1;31mNameError\u001b[0m                                 Traceback (most recent call last)",
      "\u001b[1;32m~\\AppData\\Local\\Temp/ipykernel_9700/3098596057.py\u001b[0m in \u001b[0;36m<module>\u001b[1;34m\u001b[0m\n\u001b[1;32m----> 1\u001b[1;33m \u001b[0mcluster\u001b[0m\u001b[1;33m.\u001b[0m\u001b[0mfillna\u001b[0m\u001b[1;33m(\u001b[0m\u001b[1;34m''\u001b[0m\u001b[1;33m)\u001b[0m\u001b[1;33m.\u001b[0m\u001b[0mhead\u001b[0m\u001b[1;33m(\u001b[0m\u001b[1;33m)\u001b[0m\u001b[1;33m\u001b[0m\u001b[1;33m\u001b[0m\u001b[0m\n\u001b[0m",
      "\u001b[1;31mNameError\u001b[0m: name 'cluster' is not defined"
     ]
    }
   ],
   "source": [
    "cluster.fillna('').head()"
   ]
  },
  {
   "cell_type": "code",
   "execution_count": 16,
   "id": "072b8b58-0a53-4b4c-902a-6b5012d247a2",
   "metadata": {},
   "outputs": [
    {
     "data": {
      "text/plain": [
       "4.324015247776366"
      ]
     },
     "execution_count": 16,
     "metadata": {},
     "output_type": "execute_result"
    }
   ],
   "source": [
    "movie_name = \"Pulp Fiction (1994)\"\n",
    "cluster[movie_name].mean()"
   ]
  },
  {
   "cell_type": "code",
   "execution_count": 17,
   "id": "2c951e5f-6c6b-40b4-b3ce-bb6abb6df750",
   "metadata": {},
   "outputs": [
    {
     "data": {
      "text/plain": [
       "Forrest Gump (1994)                                                               3.916494\n",
       "Shawshank Redemption, The (1994)                                                  4.483670\n",
       "Pulp Fiction (1994)                                                               4.324015\n",
       "Silence of the Lambs, The (1991)                                                  4.316734\n",
       "Matrix, The (1999)                                                                4.228157\n",
       "Star Wars: Episode IV - A New Hope (1977)                                         4.447904\n",
       "Jurassic Park (1993)                                                              3.702624\n",
       "Schindler's List (1993)                                                           4.408115\n",
       "Braveheart (1995)                                                                 4.105357\n",
       "Fight Club (1999)                                                                 4.096488\n",
       "Terminator 2: Judgment Day (1991)                                                 4.028285\n",
       "Star Wars: Episode V - The Empire Strikes Back (1980)                             4.371214\n",
       "Toy Story (1995)                                                                  4.091990\n",
       "Lord of the Rings: The Fellowship of the Ring, The (2001)                         4.260524\n",
       "Usual Suspects, The (1995)                                                        4.479776\n",
       "Star Wars: Episode VI - Return of the Jedi (1983)                                 4.031688\n",
       "Raiders of the Lost Ark (Indiana Jones and the Raiders of the Lost Ark) (1981)    4.502028\n",
       "American Beauty (1999)                                                            4.266694\n",
       "Godfather, The (1972)                                                             4.571866\n",
       "Lord of the Rings: The Two Towers, The (2002)                                     4.181914\n",
       "dtype: float64"
      ]
     },
     "execution_count": 17,
     "metadata": {},
     "output_type": "execute_result"
    }
   ],
   "source": [
    "cluster.mean().head(20)"
   ]
  },
  {
   "cell_type": "code",
   "execution_count": 18,
   "id": "c4908147-9315-4edc-a74f-44e07c5c5828",
   "metadata": {},
   "outputs": [
    {
     "data": {
      "text/plain": [
       "Girl Who Kicked the Hornet's Nest, The (Luftslottet som sprängdes) (2009)    4.625000\n",
       "Chef (2014)                                                                  4.500000\n",
       "Resident Evil: Extinction (2007)                                             4.500000\n",
       "Seven Samurai (Shichinin no samurai) (1954)                                  4.449607\n",
       "Wallace & Gromit: A Close Shave (1995)                                       4.418211\n",
       "Rashomon (Rashômon) (1950)                                                   4.305556\n",
       "Memento (2000)                                                               4.283656\n",
       "Virgin Spring, The (Jungfrukällan) (1960)                                    4.274194\n",
       "Ran (1985)                                                                   4.267327\n",
       "Amelie (Fabuleux destin d'Amélie Poulain, Le) (2001)                         4.265823\n",
       "Lord of the Rings: The Fellowship of the Ring, The (2001)                    4.260524\n",
       "Spirited Away (Sen to Chihiro no kamikakushi) (2001)                         4.252688\n",
       "Planet Earth II (2016)                                                       4.250000\n",
       "Ghost in the Shell (2017)                                                    4.250000\n",
       "Day Watch (Dnevnoy dozor) (2006)                                             4.250000\n",
       "Kagemusha (1980)                                                             4.215190\n",
       "Lord of the Rings: The Two Towers, The (2002)                                4.181914\n",
       "Killing Fields, The (1984)                                                   4.167925\n",
       "Captain Fantastic (2016)                                                     4.166667\n",
       "Life Is Beautiful (La Vita è bella) (1997)                                   4.158031\n",
       "Name: 0, dtype: float64"
      ]
     },
     "execution_count": 18,
     "metadata": {},
     "output_type": "execute_result"
    }
   ],
   "source": [
    "user_id = 71\n",
    "\n",
    "user_2_ratings  = cluster.loc[user_id, :]\n",
    "\n",
    "user_2_unrated_movies =  user_2_ratings[user_2_ratings.isnull()]\n",
    "\n",
    "\n",
    "avg_ratings = pd.concat([user_2_unrated_movies, cluster.mean()], axis=1, join='inner').loc[:,0]\n",
    "\n",
    "avg_ratings.sort_values(ascending=False)[:20]"
   ]
  },
  {
   "cell_type": "code",
   "execution_count": 22,
   "id": "f6cedc77-035f-44f2-8c2b-44f1b3b36b69",
   "metadata": {},
   "outputs": [
    {
     "data": {
      "text/plain": [
       "13    43879\n",
       "4     19872\n",
       "8     16621\n",
       "2     16115\n",
       "5     11035\n",
       "12     9271\n",
       "3      8739\n",
       "0      6846\n",
       "6      6565\n",
       "11     6531\n",
       "7      4590\n",
       "1      4579\n",
       "9      3409\n",
       "14     2566\n",
       "10     1834\n",
       "Name: cluster, dtype: int64"
      ]
     },
     "execution_count": 22,
     "metadata": {},
     "output_type": "execute_result"
    }
   ],
   "source": [
    "frame = pd.DataFrame(sparse_ratings)\n",
    "frame['cluster'] = predictions\n",
    "frame['cluster'].value_counts()"
   ]
  },
  {
   "cell_type": "code",
   "execution_count": 19,
   "id": "13a590ff-ecf9-492b-a4fc-fecd74b84fd2",
   "metadata": {},
   "outputs": [
    {
     "data": {
      "text/plain": [
       "92388102.20344439"
      ]
     },
     "execution_count": 19,
     "metadata": {},
     "output_type": "execute_result"
    }
   ],
   "source": [
    "k_means.inertia_"
   ]
  },
  {
   "cell_type": "code",
   "execution_count": 21,
   "id": "89b99521-c5e8-47a2-9604-4e3c3702f248",
   "metadata": {},
   "outputs": [
    {
     "data": {
      "text/plain": [
       "{'algorithm': 'full',\n",
       " 'copy_x': True,\n",
       " 'init': 'k-means++',\n",
       " 'max_iter': 100,\n",
       " 'n_clusters': 15,\n",
       " 'n_init': 10,\n",
       " 'n_jobs': 'deprecated',\n",
       " 'precompute_distances': 'deprecated',\n",
       " 'random_state': None,\n",
       " 'tol': 0.0001,\n",
       " 'verbose': 0}"
      ]
     },
     "execution_count": 21,
     "metadata": {},
     "output_type": "execute_result"
    }
   ],
   "source": [
    "k_means.get_params()"
   ]
  },
  {
   "cell_type": "code",
   "execution_count": null,
   "id": "cb649e92-f30b-4abe-80b9-7950d76531e8",
   "metadata": {},
   "outputs": [],
   "source": []
  }
 ],
 "metadata": {
  "kernelspec": {
   "display_name": "Python 3 (ipykernel)",
   "language": "python",
   "name": "python3"
  },
  "language_info": {
   "codemirror_mode": {
    "name": "ipython",
    "version": 3
   },
   "file_extension": ".py",
   "mimetype": "text/x-python",
   "name": "python",
   "nbconvert_exporter": "python",
   "pygments_lexer": "ipython3",
   "version": "3.9.6"
  }
 },
 "nbformat": 4,
 "nbformat_minor": 5
}
